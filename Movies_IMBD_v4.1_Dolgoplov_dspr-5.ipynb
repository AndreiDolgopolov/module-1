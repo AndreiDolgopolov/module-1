{
 "cells": [
  {
   "cell_type": "code",
   "execution_count": 1,
   "metadata": {
    "_cell_guid": "b1076dfc-b9ad-4769-8c92-a6c4dae69d19",
    "_uuid": "8f2839f25d086af736a60e9eeb907d3b93b6e0e5",
    "colab": {},
    "colab_type": "code",
    "id": "U2D2gTdJVp90"
   },
   "outputs": [],
   "source": [
    "import numpy as np\n",
    "import pandas as pd\n",
    "import seaborn as sns\n",
    "import matplotlib.pyplot as plt\n",
    "from collections import Counter"
   ]
  },
  {
   "cell_type": "code",
   "execution_count": 2,
   "metadata": {},
   "outputs": [],
   "source": [
    "import itertools as its"
   ]
  },
  {
   "cell_type": "code",
   "execution_count": 3,
   "metadata": {
    "_cell_guid": "79c7e3d0-c299-4dcb-8224-4455121ee9b0",
    "_uuid": "d629ff2d2480ee46fbb7e2d37f6b5fab8052498a",
    "colab": {},
    "colab_type": "code",
    "id": "oyGfxL3eVp9-"
   },
   "outputs": [
    {
     "data": {
      "text/html": [
       "<div>\n",
       "<style scoped>\n",
       "    .dataframe tbody tr th:only-of-type {\n",
       "        vertical-align: middle;\n",
       "    }\n",
       "\n",
       "    .dataframe tbody tr th {\n",
       "        vertical-align: top;\n",
       "    }\n",
       "\n",
       "    .dataframe thead th {\n",
       "        text-align: right;\n",
       "    }\n",
       "</style>\n",
       "<table border=\"1\" class=\"dataframe\">\n",
       "  <thead>\n",
       "    <tr style=\"text-align: right;\">\n",
       "      <th></th>\n",
       "      <th>imdb_id</th>\n",
       "      <th>budget</th>\n",
       "      <th>revenue</th>\n",
       "      <th>original_title</th>\n",
       "      <th>cast</th>\n",
       "      <th>director</th>\n",
       "      <th>tagline</th>\n",
       "      <th>overview</th>\n",
       "      <th>runtime</th>\n",
       "      <th>genres</th>\n",
       "      <th>production_companies</th>\n",
       "      <th>release_date</th>\n",
       "      <th>vote_average</th>\n",
       "      <th>release_year</th>\n",
       "    </tr>\n",
       "  </thead>\n",
       "  <tbody>\n",
       "    <tr>\n",
       "      <th>0</th>\n",
       "      <td>tt0369610</td>\n",
       "      <td>150000000</td>\n",
       "      <td>1513528810</td>\n",
       "      <td>Jurassic World</td>\n",
       "      <td>Chris Pratt|Bryce Dallas Howard|Irrfan Khan|Vi...</td>\n",
       "      <td>Colin Trevorrow</td>\n",
       "      <td>The park is open.</td>\n",
       "      <td>Twenty-two years after the events of Jurassic ...</td>\n",
       "      <td>124</td>\n",
       "      <td>Action|Adventure|Science Fiction|Thriller</td>\n",
       "      <td>Universal Studios|Amblin Entertainment|Legenda...</td>\n",
       "      <td>6/9/2015</td>\n",
       "      <td>6.5</td>\n",
       "      <td>2015</td>\n",
       "    </tr>\n",
       "    <tr>\n",
       "      <th>1</th>\n",
       "      <td>tt1392190</td>\n",
       "      <td>150000000</td>\n",
       "      <td>378436354</td>\n",
       "      <td>Mad Max: Fury Road</td>\n",
       "      <td>Tom Hardy|Charlize Theron|Hugh Keays-Byrne|Nic...</td>\n",
       "      <td>George Miller</td>\n",
       "      <td>What a Lovely Day.</td>\n",
       "      <td>An apocalyptic story set in the furthest reach...</td>\n",
       "      <td>120</td>\n",
       "      <td>Action|Adventure|Science Fiction|Thriller</td>\n",
       "      <td>Village Roadshow Pictures|Kennedy Miller Produ...</td>\n",
       "      <td>5/13/2015</td>\n",
       "      <td>7.1</td>\n",
       "      <td>2015</td>\n",
       "    </tr>\n",
       "    <tr>\n",
       "      <th>2</th>\n",
       "      <td>tt2908446</td>\n",
       "      <td>110000000</td>\n",
       "      <td>295238201</td>\n",
       "      <td>Insurgent</td>\n",
       "      <td>Shailene Woodley|Theo James|Kate Winslet|Ansel...</td>\n",
       "      <td>Robert Schwentke</td>\n",
       "      <td>One Choice Can Destroy You</td>\n",
       "      <td>Beatrice Prior must confront her inner demons ...</td>\n",
       "      <td>119</td>\n",
       "      <td>Adventure|Science Fiction|Thriller</td>\n",
       "      <td>Summit Entertainment|Mandeville Films|Red Wago...</td>\n",
       "      <td>3/18/2015</td>\n",
       "      <td>6.3</td>\n",
       "      <td>2015</td>\n",
       "    </tr>\n",
       "    <tr>\n",
       "      <th>3</th>\n",
       "      <td>tt2488496</td>\n",
       "      <td>200000000</td>\n",
       "      <td>2068178225</td>\n",
       "      <td>Star Wars: The Force Awakens</td>\n",
       "      <td>Harrison Ford|Mark Hamill|Carrie Fisher|Adam D...</td>\n",
       "      <td>J.J. Abrams</td>\n",
       "      <td>Every generation has a story.</td>\n",
       "      <td>Thirty years after defeating the Galactic Empi...</td>\n",
       "      <td>136</td>\n",
       "      <td>Action|Adventure|Science Fiction|Fantasy</td>\n",
       "      <td>Lucasfilm|Truenorth Productions|Bad Robot</td>\n",
       "      <td>12/15/2015</td>\n",
       "      <td>7.5</td>\n",
       "      <td>2015</td>\n",
       "    </tr>\n",
       "    <tr>\n",
       "      <th>4</th>\n",
       "      <td>tt2820852</td>\n",
       "      <td>190000000</td>\n",
       "      <td>1506249360</td>\n",
       "      <td>Furious 7</td>\n",
       "      <td>Vin Diesel|Paul Walker|Jason Statham|Michelle ...</td>\n",
       "      <td>James Wan</td>\n",
       "      <td>Vengeance Hits Home</td>\n",
       "      <td>Deckard Shaw seeks revenge against Dominic Tor...</td>\n",
       "      <td>137</td>\n",
       "      <td>Action|Crime|Thriller</td>\n",
       "      <td>Universal Pictures|Original Film|Media Rights ...</td>\n",
       "      <td>4/1/2015</td>\n",
       "      <td>7.3</td>\n",
       "      <td>2015</td>\n",
       "    </tr>\n",
       "  </tbody>\n",
       "</table>\n",
       "</div>"
      ],
      "text/plain": [
       "     imdb_id     budget     revenue                original_title  \\\n",
       "0  tt0369610  150000000  1513528810                Jurassic World   \n",
       "1  tt1392190  150000000   378436354            Mad Max: Fury Road   \n",
       "2  tt2908446  110000000   295238201                     Insurgent   \n",
       "3  tt2488496  200000000  2068178225  Star Wars: The Force Awakens   \n",
       "4  tt2820852  190000000  1506249360                     Furious 7   \n",
       "\n",
       "                                                cast          director  \\\n",
       "0  Chris Pratt|Bryce Dallas Howard|Irrfan Khan|Vi...   Colin Trevorrow   \n",
       "1  Tom Hardy|Charlize Theron|Hugh Keays-Byrne|Nic...     George Miller   \n",
       "2  Shailene Woodley|Theo James|Kate Winslet|Ansel...  Robert Schwentke   \n",
       "3  Harrison Ford|Mark Hamill|Carrie Fisher|Adam D...       J.J. Abrams   \n",
       "4  Vin Diesel|Paul Walker|Jason Statham|Michelle ...         James Wan   \n",
       "\n",
       "                         tagline  \\\n",
       "0              The park is open.   \n",
       "1             What a Lovely Day.   \n",
       "2     One Choice Can Destroy You   \n",
       "3  Every generation has a story.   \n",
       "4            Vengeance Hits Home   \n",
       "\n",
       "                                            overview  runtime  \\\n",
       "0  Twenty-two years after the events of Jurassic ...      124   \n",
       "1  An apocalyptic story set in the furthest reach...      120   \n",
       "2  Beatrice Prior must confront her inner demons ...      119   \n",
       "3  Thirty years after defeating the Galactic Empi...      136   \n",
       "4  Deckard Shaw seeks revenge against Dominic Tor...      137   \n",
       "\n",
       "                                      genres  \\\n",
       "0  Action|Adventure|Science Fiction|Thriller   \n",
       "1  Action|Adventure|Science Fiction|Thriller   \n",
       "2         Adventure|Science Fiction|Thriller   \n",
       "3   Action|Adventure|Science Fiction|Fantasy   \n",
       "4                      Action|Crime|Thriller   \n",
       "\n",
       "                                production_companies release_date  \\\n",
       "0  Universal Studios|Amblin Entertainment|Legenda...     6/9/2015   \n",
       "1  Village Roadshow Pictures|Kennedy Miller Produ...    5/13/2015   \n",
       "2  Summit Entertainment|Mandeville Films|Red Wago...    3/18/2015   \n",
       "3          Lucasfilm|Truenorth Productions|Bad Robot   12/15/2015   \n",
       "4  Universal Pictures|Original Film|Media Rights ...     4/1/2015   \n",
       "\n",
       "   vote_average  release_year  \n",
       "0           6.5          2015  \n",
       "1           7.1          2015  \n",
       "2           6.3          2015  \n",
       "3           7.5          2015  \n",
       "4           7.3          2015  "
      ]
     },
     "execution_count": 3,
     "metadata": {},
     "output_type": "execute_result"
    }
   ],
   "source": [
    "data = pd.read_csv('movie_bd_v5.csv')\n",
    "data.head()"
   ]
  },
  {
   "cell_type": "code",
   "execution_count": 4,
   "metadata": {
    "colab": {},
    "colab_type": "code",
    "id": "CoYUnagMVp-C"
   },
   "outputs": [
    {
     "data": {
      "text/html": [
       "<div>\n",
       "<style scoped>\n",
       "    .dataframe tbody tr th:only-of-type {\n",
       "        vertical-align: middle;\n",
       "    }\n",
       "\n",
       "    .dataframe tbody tr th {\n",
       "        vertical-align: top;\n",
       "    }\n",
       "\n",
       "    .dataframe thead th {\n",
       "        text-align: right;\n",
       "    }\n",
       "</style>\n",
       "<table border=\"1\" class=\"dataframe\">\n",
       "  <thead>\n",
       "    <tr style=\"text-align: right;\">\n",
       "      <th></th>\n",
       "      <th>budget</th>\n",
       "      <th>revenue</th>\n",
       "      <th>runtime</th>\n",
       "      <th>vote_average</th>\n",
       "      <th>release_year</th>\n",
       "    </tr>\n",
       "  </thead>\n",
       "  <tbody>\n",
       "    <tr>\n",
       "      <th>count</th>\n",
       "      <td>1.889000e+03</td>\n",
       "      <td>1.889000e+03</td>\n",
       "      <td>1889.000000</td>\n",
       "      <td>1889.000000</td>\n",
       "      <td>1889.000000</td>\n",
       "    </tr>\n",
       "    <tr>\n",
       "      <th>mean</th>\n",
       "      <td>5.431083e+07</td>\n",
       "      <td>1.553653e+08</td>\n",
       "      <td>109.658549</td>\n",
       "      <td>6.140762</td>\n",
       "      <td>2007.860773</td>\n",
       "    </tr>\n",
       "    <tr>\n",
       "      <th>std</th>\n",
       "      <td>4.858721e+07</td>\n",
       "      <td>2.146698e+08</td>\n",
       "      <td>18.017041</td>\n",
       "      <td>0.764763</td>\n",
       "      <td>4.468841</td>\n",
       "    </tr>\n",
       "    <tr>\n",
       "      <th>min</th>\n",
       "      <td>5.000000e+06</td>\n",
       "      <td>2.033165e+06</td>\n",
       "      <td>63.000000</td>\n",
       "      <td>3.300000</td>\n",
       "      <td>2000.000000</td>\n",
       "    </tr>\n",
       "    <tr>\n",
       "      <th>25%</th>\n",
       "      <td>2.000000e+07</td>\n",
       "      <td>3.456058e+07</td>\n",
       "      <td>97.000000</td>\n",
       "      <td>5.600000</td>\n",
       "      <td>2004.000000</td>\n",
       "    </tr>\n",
       "    <tr>\n",
       "      <th>50%</th>\n",
       "      <td>3.800000e+07</td>\n",
       "      <td>8.361541e+07</td>\n",
       "      <td>107.000000</td>\n",
       "      <td>6.100000</td>\n",
       "      <td>2008.000000</td>\n",
       "    </tr>\n",
       "    <tr>\n",
       "      <th>75%</th>\n",
       "      <td>7.200000e+07</td>\n",
       "      <td>1.782626e+08</td>\n",
       "      <td>120.000000</td>\n",
       "      <td>6.600000</td>\n",
       "      <td>2012.000000</td>\n",
       "    </tr>\n",
       "    <tr>\n",
       "      <th>max</th>\n",
       "      <td>3.800000e+08</td>\n",
       "      <td>2.781506e+09</td>\n",
       "      <td>214.000000</td>\n",
       "      <td>8.100000</td>\n",
       "      <td>2015.000000</td>\n",
       "    </tr>\n",
       "  </tbody>\n",
       "</table>\n",
       "</div>"
      ],
      "text/plain": [
       "             budget       revenue      runtime  vote_average  release_year\n",
       "count  1.889000e+03  1.889000e+03  1889.000000   1889.000000   1889.000000\n",
       "mean   5.431083e+07  1.553653e+08   109.658549      6.140762   2007.860773\n",
       "std    4.858721e+07  2.146698e+08    18.017041      0.764763      4.468841\n",
       "min    5.000000e+06  2.033165e+06    63.000000      3.300000   2000.000000\n",
       "25%    2.000000e+07  3.456058e+07    97.000000      5.600000   2004.000000\n",
       "50%    3.800000e+07  8.361541e+07   107.000000      6.100000   2008.000000\n",
       "75%    7.200000e+07  1.782626e+08   120.000000      6.600000   2012.000000\n",
       "max    3.800000e+08  2.781506e+09   214.000000      8.100000   2015.000000"
      ]
     },
     "execution_count": 4,
     "metadata": {},
     "output_type": "execute_result"
    }
   ],
   "source": [
    "data.describe()"
   ]
  },
  {
   "cell_type": "code",
   "execution_count": 5,
   "metadata": {},
   "outputs": [
    {
     "name": "stdout",
     "output_type": "stream",
     "text": [
      "<class 'pandas.core.frame.DataFrame'>\n",
      "RangeIndex: 1889 entries, 0 to 1888\n",
      "Data columns (total 14 columns):\n",
      " #   Column                Non-Null Count  Dtype  \n",
      "---  ------                --------------  -----  \n",
      " 0   imdb_id               1889 non-null   object \n",
      " 1   budget                1889 non-null   int64  \n",
      " 2   revenue               1889 non-null   int64  \n",
      " 3   original_title        1889 non-null   object \n",
      " 4   cast                  1889 non-null   object \n",
      " 5   director              1889 non-null   object \n",
      " 6   tagline               1889 non-null   object \n",
      " 7   overview              1889 non-null   object \n",
      " 8   runtime               1889 non-null   int64  \n",
      " 9   genres                1889 non-null   object \n",
      " 10  production_companies  1889 non-null   object \n",
      " 11  release_date          1889 non-null   object \n",
      " 12  vote_average          1889 non-null   float64\n",
      " 13  release_year          1889 non-null   int64  \n",
      "dtypes: float64(1), int64(4), object(9)\n",
      "memory usage: 206.7+ KB\n"
     ]
    }
   ],
   "source": [
    "data.info()"
   ]
  },
  {
   "cell_type": "markdown",
   "metadata": {
    "colab_type": "text",
    "id": "DTIt7ezGVp-G"
   },
   "source": [
    "# Предобработка"
   ]
  },
  {
   "cell_type": "code",
   "execution_count": 329,
   "metadata": {
    "colab": {},
    "colab_type": "code",
    "id": "jNb40DwKVp-H"
   },
   "outputs": [],
   "source": [
    "answers = {} # создадим словарь для ответов\n",
    "\n",
    "# тут другие ваши предобработки колонок например:\n",
    "\n",
    "#the time given in the dataset is in string format.\n",
    "#So we need to change this in datetime format\n",
    "# ..."
   ]
  },
  {
   "cell_type": "code",
   "execution_count": 330,
   "metadata": {},
   "outputs": [],
   "source": [
    "data['profit'] = data.apply(lambda row: row['revenue'] - row['budget'], axis = 1)\n",
    "data['release_date'] = pd.to_datetime(data['release_date'])\n",
    "data['month'] = data['release_date'].dt.month\n",
    "Series_of_month = pd.Series(['Январь', 'Февраль', 'Март', 'Апрель', 'Май', 'Июнь', 'Июль', 'Август', 'Сентябрь',\n",
    "                'Октябрь', 'Ноябрь', 'Декабрь'], [1, 2, 3, 4, 5, 6, 7, 8, 9, 10, 11, 12])"
   ]
  },
  {
   "cell_type": "markdown",
   "metadata": {
    "colab_type": "text",
    "id": "YxZaH-nPVp-L"
   },
   "source": [
    "# 1. У какого фильма из списка самый большой бюджет?"
   ]
  },
  {
   "cell_type": "markdown",
   "metadata": {
    "colab_type": "text",
    "id": "Nd-G5gX6Vp-M"
   },
   "source": [
    "Использовать варианты ответов в коде решения запрещено.    \n",
    "Вы думаете и в жизни у вас будут варианты ответов?)"
   ]
  },
  {
   "cell_type": "code",
   "execution_count": 331,
   "metadata": {
    "colab": {},
    "colab_type": "code",
    "id": "uVnXAY5RVp-O"
   },
   "outputs": [],
   "source": [
    "# в словарь вставляем номер вопроса и ваш ответ на него\n",
    "# Пример: \n",
    "#answers['1'] = '2. Spider-Man 3 (tt0413300)'\n",
    "# запишите свой вариант ответа\n",
    "# если ответили верно, можете добавить комментарий со значком \"+\""
   ]
  },
  {
   "cell_type": "code",
   "execution_count": 332,
   "metadata": {
    "colab": {},
    "colab_type": "code",
    "id": "dZwb3m28Vp-S"
   },
   "outputs": [],
   "source": [
    "# тут пишем ваш код для решения данного вопроса:\n",
    "strmaxbudgetfilm = data[data['budget'] == data.budget.max()]\n",
    "strindex = str(strmaxbudgetfilm.index[0])\n",
    "strtitle = strmaxbudgetfilm.iloc[0]['original_title']\n",
    "strid = strmaxbudgetfilm.iloc[0]['imdb_id']\n",
    "answers['1'] = 'У какого фильма из списка самый большой бюджет? Вариант 5: {}. {} ({})'.format(strindex, strtitle, strid)\n"
   ]
  },
  {
   "cell_type": "markdown",
   "metadata": {
    "colab_type": "text",
    "id": "K7L3nbRXVp-X"
   },
   "source": [
    "ВАРИАНТ 2"
   ]
  },
  {
   "cell_type": "code",
   "execution_count": 10,
   "metadata": {
    "colab": {},
    "colab_type": "code",
    "id": "OGaoQI7rVp-X"
   },
   "outputs": [],
   "source": [
    "# можно добавлять разные варианты решения"
   ]
  },
  {
   "cell_type": "markdown",
   "metadata": {
    "colab_type": "text",
    "id": "FNRbbI3vVp-c"
   },
   "source": [
    "# 2. Какой из фильмов самый длительный (в минутах)?"
   ]
  },
  {
   "cell_type": "code",
   "execution_count": 11,
   "metadata": {
    "colab": {},
    "colab_type": "code",
    "id": "vHAoEXNTVp-d"
   },
   "outputs": [],
   "source": [
    "# думаю логику работы с этим словарем вы уже поняли, \n",
    "# по этому не буду больше его дублировать"
   ]
  },
  {
   "cell_type": "code",
   "execution_count": 333,
   "metadata": {
    "colab": {},
    "colab_type": "code",
    "id": "ot-VX2XrVp-g"
   },
   "outputs": [],
   "source": [
    "max_runtime = data[data['runtime'] == data.runtime.max()]\n",
    "strindex = str(max_runtime.index[0])\n",
    "strtitle = max_runtime.iloc[0]['original_title']\n",
    "strid = max_runtime.iloc[0]['imdb_id']\n",
    "answers['2'] = 'Какой из фильмов самый длительный (в минутах)? Вариант 2: {}. {} ({})'.format(strindex, strtitle, strid)"
   ]
  },
  {
   "cell_type": "markdown",
   "metadata": {
    "colab_type": "text",
    "id": "bapLlpW8Vp-k"
   },
   "source": [
    "# 3. Какой из фильмов самый короткий (в минутах)?\n",
    "\n",
    "\n",
    "\n"
   ]
  },
  {
   "cell_type": "code",
   "execution_count": 334,
   "metadata": {
    "colab": {},
    "colab_type": "code",
    "id": "YBxaSHuAVp-l"
   },
   "outputs": [],
   "source": [
    "min_runtime = data[data['runtime'] == data.runtime.min()]\n",
    "strindex = str(min_runtime.index[0])\n",
    "strtitle = min_runtime.iloc[0]['original_title']\n",
    "strid = min_runtime.iloc[0]['imdb_id']\n",
    "answers['3'] = 'Какой из фильмов самый короткий (в минутах)? Вариант 3: {}. {} ({})'.format(strindex, strtitle, strid)"
   ]
  },
  {
   "cell_type": "markdown",
   "metadata": {
    "colab_type": "text",
    "id": "TfQbxbfNVp-p"
   },
   "source": [
    "# 4. Какова средняя длительность фильмов?\n"
   ]
  },
  {
   "cell_type": "code",
   "execution_count": 335,
   "metadata": {
    "colab": {},
    "colab_type": "code",
    "id": "5K6dKZYVVp-q"
   },
   "outputs": [],
   "source": [
    "answers['4'] = '{}{} минут'.format('Какова средняя длительность фильмов? Вариант 2: ', int(round(data.runtime.mean(), 0)))"
   ]
  },
  {
   "cell_type": "markdown",
   "metadata": {
    "colab_type": "text",
    "id": "r5TvbnT_Vp-u"
   },
   "source": [
    "# 5. Каково медианное значение длительности фильмов? "
   ]
  },
  {
   "cell_type": "code",
   "execution_count": 336,
   "metadata": {
    "colab": {},
    "colab_type": "code",
    "id": "iBROplKnVp-v"
   },
   "outputs": [],
   "source": [
    "answers['5'] = '{}{} минут'.format('Каково медианное значение длительности фильмов? Вариант 1: ', int(data.runtime.median()))"
   ]
  },
  {
   "cell_type": "markdown",
   "metadata": {
    "colab_type": "text",
    "id": "39P-deDSVp-y"
   },
   "source": [
    "# 6. Какой самый прибыльный фильм?\n",
    "#### Внимание! Здесь и далее под «прибылью» или «убытками» понимается разность между сборами и бюджетом фильма. (прибыль = сборы - бюджет) в нашем датасете это будет (profit = revenue - budget) "
   ]
  },
  {
   "cell_type": "code",
   "execution_count": 337,
   "metadata": {
    "colab": {},
    "colab_type": "code",
    "id": "UYZh4T9WVp-y"
   },
   "outputs": [],
   "source": [
    "# лучше код получения столбца profit вынести в Предобработку что в начале\n",
    "max_profit = data[data['profit'] == data.profit.max()]\n",
    "strindex = str(max_profit.index[0])\n",
    "strtitle = max_profit.iloc[0]['original_title']\n",
    "strid = max_profit.iloc[0]['imdb_id']\n",
    "answers['6'] = 'Какой самый прибыльный фильм? Вариант 5: {}. {} ({})'.format(strindex, strtitle, strid)"
   ]
  },
  {
   "cell_type": "markdown",
   "metadata": {
    "colab_type": "text",
    "id": "M99JmIX4Vp-2"
   },
   "source": [
    "# 7. Какой фильм самый убыточный? "
   ]
  },
  {
   "cell_type": "code",
   "execution_count": 338,
   "metadata": {
    "colab": {},
    "colab_type": "code",
    "id": "w-D2m4XPVp-3"
   },
   "outputs": [],
   "source": [
    "min_profit = data[data['profit'] == data.profit.min()]\n",
    "strindex = str(min_profit.index[0])\n",
    "strtitle = min_profit.iloc[0]['original_title']\n",
    "strid = min_runtime.iloc[0]['imdb_id']\n",
    "answers['7'] = 'Какой фильм самый убыточный? Вариант 5: {}. {} ({})'.format(strindex, strtitle, strid)"
   ]
  },
  {
   "cell_type": "markdown",
   "metadata": {
    "colab_type": "text",
    "id": "wEOM5ERVVp-6"
   },
   "source": [
    "# 8. У скольких фильмов из датасета объем сборов оказался выше бюджета?"
   ]
  },
  {
   "cell_type": "code",
   "execution_count": 339,
   "metadata": {
    "colab": {},
    "colab_type": "code",
    "id": "y00_7HD6Vp-7"
   },
   "outputs": [],
   "source": [
    "answers['8'] = '{}{}'.format('У скольких фильмов из датасета объем сборов оказался выше бюджета? Вариант 1: ',\n",
    "                             data[data['revenue'] > data['budget']].original_title.count())"
   ]
  },
  {
   "cell_type": "code",
   "execution_count": 340,
   "metadata": {},
   "outputs": [
    {
     "data": {
      "text/plain": [
       "'Количество прибыльных фильмов = 1478'"
      ]
     },
     "execution_count": 340,
     "metadata": {},
     "output_type": "execute_result"
    }
   ],
   "source": [
    "#Вариант 2 \n",
    "'{} = {}'.format('Количество прибыльных фильмов', data[data['profit'] > 0].original_title.count())"
   ]
  },
  {
   "cell_type": "markdown",
   "metadata": {
    "colab_type": "text",
    "id": "xhpspA9KVp_A"
   },
   "source": [
    "# 9. Какой фильм оказался самым кассовым в 2008 году?"
   ]
  },
  {
   "cell_type": "code",
   "execution_count": 341,
   "metadata": {
    "colab": {},
    "colab_type": "code",
    "id": "MoUyQr9RVp_B"
   },
   "outputs": [],
   "source": [
    "max_revenue2008 = data.query('release_year == 2008').query('revenue == revenue.max()')\n",
    "strindex = str(max_revenue2008.index[0])\n",
    "strtitle = max_revenue2008.iloc[0]['original_title']\n",
    "strid = max_revenue2008.iloc[0]['imdb_id']\n",
    "answers['9'] = 'Какой фильм оказался самым кассовым в 2008 году? Вариант 4: {}. {} ({})'.format(strindex, strtitle, strid)\n"
   ]
  },
  {
   "cell_type": "markdown",
   "metadata": {
    "colab_type": "text",
    "id": "Zi4hDKidVp_F"
   },
   "source": [
    "# 10. Самый убыточный фильм за период с 2012 по 2014 г. (включительно)?\n"
   ]
  },
  {
   "cell_type": "code",
   "execution_count": 342,
   "metadata": {
    "colab": {},
    "colab_type": "code",
    "id": "XqyRmufJVp_F"
   },
   "outputs": [],
   "source": [
    "min_profit2012 = data.query('2012 <= release_year <= 2014').query('profit == profit.min()')\n",
    "strindex = str(min_profit2012.index[0])\n",
    "strtitle = min_profit2012.iloc[0]['original_title']\n",
    "strid = min_profit2012.iloc[0]['imdb_id']\n",
    "answers['10'] = 'Самый убыточный фильм за период с 2012 по 2014 г. (включительно)? \\\n",
    "Вариант 5: {}. {} ({})'.format(strindex, strtitle, strid)"
   ]
  },
  {
   "cell_type": "markdown",
   "metadata": {
    "colab_type": "text",
    "id": "EA7Sa9dkVp_I"
   },
   "source": [
    "# 11. Какого жанра фильмов больше всего?"
   ]
  },
  {
   "cell_type": "code",
   "execution_count": 343,
   "metadata": {
    "colab": {},
    "colab_type": "code",
    "id": "zsJAwJ8QVp_J"
   },
   "outputs": [],
   "source": [
    "# эту задачу тоже можно решать разными подходами, попробуй реализовать разные варианты\n",
    "# если будешь добавлять функцию - выноси ее в предобработку что в начале\n",
    "genre_max = Counter(data.genres.str.cat(sep='|').split('|')).most_common(1)\n",
    "answers['11'] = 'Какого жанра фильмов больше всего? Вариант 3: {}.'.format(genre_max[0][0])"
   ]
  },
  {
   "cell_type": "markdown",
   "metadata": {
    "colab_type": "text",
    "id": "Ax6g2C8SVp_M"
   },
   "source": [
    "ВАРИАНТ 2"
   ]
  },
  {
   "cell_type": "markdown",
   "metadata": {
    "colab_type": "text",
    "id": "T9_bPWpkVp_Q"
   },
   "source": [
    "# 12. Фильмы какого жанра чаще всего становятся прибыльными? "
   ]
  },
  {
   "cell_type": "code",
   "execution_count": 344,
   "metadata": {
    "colab": {},
    "colab_type": "code",
    "id": "Tmt8MaK1Vp_R"
   },
   "outputs": [],
   "source": [
    "genre_profit = Counter(data[data['profit']> 0].genres.str.cat(sep='|').split('|')).most_common(1)\n",
    "answers['12'] = 'Фильмы какого жанра чаще всего становятся прибыльными? Вариант 1: {}.'.format(genre_profit[0][0])"
   ]
  },
  {
   "cell_type": "markdown",
   "metadata": {
    "colab_type": "text",
    "id": "0F23bgsDVp_U"
   },
   "source": [
    "# 13. У какого режиссера самые большие суммарные кассовые сбооры?"
   ]
  },
  {
   "cell_type": "code",
   "execution_count": 345,
   "metadata": {
    "colab": {},
    "colab_type": "code",
    "id": "K6Z3J8ygVp_X"
   },
   "outputs": [],
   "source": [
    "data['director1'] = data['director'].apply(lambda x: x.split('|'))\n",
    "df_dir_rev = data[['director1', 'revenue']].explode('director1')\n",
    "df_dir_rev_group = df_dir_rev.groupby(['director1'], as_index=False).sum() \n",
    "maxdirector = df_dir_rev_group[df_dir_rev_group['revenue'] == df_dir_rev_group['revenue'].max()]\n",
    "answers['13'] = 'У какого режиссера самые большие суммарные кассовые сборы? \\\n",
    "Вариант 5: {}(revenue = {})'.format(maxdirector.iloc[0]['director1'], maxdirector.iloc[0]['revenue'])"
   ]
  },
  {
   "cell_type": "markdown",
   "metadata": {
    "colab_type": "text",
    "id": "PsYC9FgRVp_a"
   },
   "source": [
    "# 14. Какой режисер снял больше всего фильмов в стиле Action?"
   ]
  },
  {
   "cell_type": "code",
   "execution_count": 346,
   "metadata": {
    "colab": {},
    "colab_type": "code",
    "id": "wd2M-wHeVp_b"
   },
   "outputs": [],
   "source": [
    "action_dir = data[data['genres'].str.contains('Action')]\n",
    "max_action_dir = Counter(action_dir.director.str.cat(sep='|').split('|')).most_common(1)\n",
    "answers['14'] = 'Какой режисер снял больше всего фильмов в стиле Action? \\\n",
    "Вариант 3: {} (Фильмов в жанре = {})'.format(max_action_dir[0][0], max_action_dir[0][1])"
   ]
  },
  {
   "cell_type": "markdown",
   "metadata": {
    "colab_type": "text",
    "id": "PQ0KciD7Vp_f"
   },
   "source": [
    "# 15. Фильмы с каким актером принесли самые высокие кассовые сборы в 2012 году? "
   ]
  },
  {
   "cell_type": "code",
   "execution_count": 347,
   "metadata": {
    "colab": {},
    "colab_type": "code",
    "id": "aga62oeKVp_g"
   },
   "outputs": [],
   "source": [
    "data_task = data[data['release_year'] == 2012].copy()\n",
    "data_task['actors'] = data_task.cast.str.split('|')\n",
    "data_actors = data_task[['revenue','actors']].explode('actors')\n",
    "data_group = data_actors.groupby(['actors'], as_index=False).sum() \n",
    "actor_max = data_group[data_group['revenue'] == data_group['revenue'].max()]\n",
    "answers['15'] = 'Фильмы с каким актером принесли самые высокие кассовые сборы в 2012 году? \\\n",
    "Вариант 3: {}(revenue = {})'.format(actor_max.iloc[0]['actors'], actor_max.iloc[0]['revenue'])"
   ]
  },
  {
   "cell_type": "markdown",
   "metadata": {
    "colab_type": "text",
    "id": "mWHyyL7QVp_j"
   },
   "source": [
    "# 16. Какой актер снялся в большем количестве высокобюджетных фильмов?"
   ]
  },
  {
   "cell_type": "code",
   "execution_count": 348,
   "metadata": {
    "colab": {},
    "colab_type": "code",
    "id": "qQtmHKTFVp_k"
   },
   "outputs": [],
   "source": [
    "data_actors = Counter(data[data['budget'] > data['budget'].mean()].cast.str.cat(sep='|').split('|')).most_common(1)\n",
    "answers['16'] = 'Какой актер снялся в большем количестве высокобюджетных фильмов? \\\n",
    "Вариант 3: {} (Количество фильмов = {})'.format(data_actors[0][0], data_actors[0][1])"
   ]
  },
  {
   "cell_type": "markdown",
   "metadata": {
    "colab_type": "text",
    "id": "NIh6AaW5Vp_n"
   },
   "source": [
    "# 17. В фильмах какого жанра больше всего снимался Nicolas Cage? "
   ]
  },
  {
   "cell_type": "code",
   "execution_count": 349,
   "metadata": {
    "colab": {},
    "colab_type": "code",
    "id": "H74SJDIBVp_n"
   },
   "outputs": [],
   "source": [
    "genre_cage = Counter(data[data['cast'].str.contains('Nicolas Cage')].genres.str.cat(sep='|').split('|')).most_common(1)\n",
    "answers['17'] = 'В фильмах какого жанра больше всего снимался Nicolas Cage? \\\n",
    "Вариант 2: {} (Количество жанров = {})'.format(genre_cage[0][0], genre_cage[0][1])"
   ]
  },
  {
   "cell_type": "markdown",
   "metadata": {
    "colab_type": "text",
    "id": "RqOmPRfWVp_q"
   },
   "source": [
    "# 18. Самый убыточный фильм от Paramount Pictures"
   ]
  },
  {
   "cell_type": "code",
   "execution_count": 350,
   "metadata": {
    "colab": {},
    "colab_type": "code",
    "id": "9E_B0Y96Vp_r"
   },
   "outputs": [],
   "source": [
    "min_profitPP = data[data['production_companies'].str.contains('Paramount Pictures')].query('profit == profit.min()')\n",
    "answers['18'] = 'Самый убыточный фильм от Paramount Pictures? \\\n",
    "Вариант 1: {}. {} ({})'.format(str(min_profitPP.index[0]), min_profitPP.iloc[0]['original_title'], min_profitPP.iloc[0]['imdb_id'])"
   ]
  },
  {
   "cell_type": "markdown",
   "metadata": {
    "colab_type": "text",
    "id": "vS8Ur6ddVp_u"
   },
   "source": [
    "# 19. Какой год стал самым успешным по суммарным кассовым сборам?"
   ]
  },
  {
   "cell_type": "code",
   "execution_count": 351,
   "metadata": {
    "colab": {},
    "colab_type": "code",
    "id": "Dnbt4GdIVp_v"
   },
   "outputs": [],
   "source": [
    "task_df = data.groupby('release_year', as_index=False).revenue.sum()\n",
    "success_year = task_df[task_df['revenue'] == task_df['revenue'].max()]\n",
    "answers['19'] = 'Какой год стал самым успешным по суммарным кассовым сборам? \\\n",
    "Вариант 5: {}(revenue = {})'.format(success_year.iloc[0]['release_year'], success_year.iloc[0]['revenue'])"
   ]
  },
  {
   "cell_type": "markdown",
   "metadata": {
    "colab_type": "text",
    "id": "JAzJh4QAVp_z"
   },
   "source": [
    "# 20. Какой самый прибыльный год для студии Warner Bros?"
   ]
  },
  {
   "cell_type": "code",
   "execution_count": 352,
   "metadata": {
    "colab": {},
    "colab_type": "code",
    "id": "wgVu02DEVp_0"
   },
   "outputs": [],
   "source": [
    "task_df = data[data['production_companies'].str.contains('Warner Bros')].groupby('release_year', as_index=False).profit.sum()\n",
    "success_yearWB = task_df[task_df['profit'] == task_df['profit'].max()]\n",
    "answers['20'] = 'Какой самый прибыльный год для студии Warner Bros? \\\n",
    "Вариант 1: {}(profit = {})'.format(success_yearWB.iloc[0]['release_year'], success_yearWB.iloc[0]['profit'])"
   ]
  },
  {
   "cell_type": "markdown",
   "metadata": {
    "colab_type": "text",
    "id": "8Im1S2HRVp_4"
   },
   "source": [
    "# 21. В каком месяце за все годы суммарно вышло больше всего фильмов?"
   ]
  },
  {
   "cell_type": "code",
   "execution_count": 353,
   "metadata": {
    "colab": {},
    "colab_type": "code",
    "id": "lev6TH7gVp_4"
   },
   "outputs": [],
   "source": [
    "#df_month = data[['imdb_id', 'original_title', 'release_date']].copy()\n",
    "#df_month['month'] = data.release_date.dt.month\n",
    "df_month_count = data.month.value_counts(ascending=False)\n",
    "answers['21'] = 'В каком месяце за все годы суммарно вышло больше всего фильмов? \\\n",
    "Вариант 4: {}(Количество фильмов = {})'.format(Series_of_month[df_month_count.index[0]], df_month_count.iloc[0])"
   ]
  },
  {
   "cell_type": "markdown",
   "metadata": {
    "colab_type": "text",
    "id": "uAJsZ_NeVp_7"
   },
   "source": [
    "# 22. Сколько суммарно вышло фильмов летом? (за июнь, июль, август)"
   ]
  },
  {
   "cell_type": "code",
   "execution_count": 354,
   "metadata": {
    "colab": {},
    "colab_type": "code",
    "id": "Aa-hEREoVp_8"
   },
   "outputs": [],
   "source": [
    "count_film = data.month[(data.month == 6) | (data.month == 7) | (data.month == 8)].count()\n",
    "answers['22'] = 'Сколько суммарно вышло фильмов летом? (за июнь, июль, август) \\\n",
    "Вариант 2: {}'.format(count_film)"
   ]
  },
  {
   "cell_type": "markdown",
   "metadata": {
    "colab_type": "text",
    "id": "G94ppOY1VqAA"
   },
   "source": [
    "# 23. Для какого режиссера зима – самое продуктивное время года? "
   ]
  },
  {
   "cell_type": "code",
   "execution_count": 355,
   "metadata": {
    "colab": {},
    "colab_type": "code",
    "id": "RhNTsamuVqAB"
   },
   "outputs": [],
   "source": [
    "data_tmp = data[data.release_date.dt.month.isin([1, 2, 12,])]\n",
    "film_of_season = Counter(data_tmp.director.str.cat(sep='|').split('|')).most_common(10)\n",
    "answers['23'] = 'Для какого режиссера зима – самое продуктивное время года? \\\n",
    "Вариант 5: {}. Количество фильмов = {}'.format(film_of_season[0][0], film_of_season[0][1])"
   ]
  },
  {
   "cell_type": "markdown",
   "metadata": {
    "colab_type": "text",
    "id": "RBo0JVjVVqAF"
   },
   "source": [
    "# 24. Какая студия дает самые длинные названия своим фильмам по количеству символов?"
   ]
  },
  {
   "cell_type": "code",
   "execution_count": 356,
   "metadata": {
    "colab": {},
    "colab_type": "code",
    "id": "QRGS8L0iVqAG"
   },
   "outputs": [
    {
     "name": "stderr",
     "output_type": "stream",
     "text": [
      "D:\\Progs\\Anaconda\\lib\\site-packages\\ipykernel_launcher.py:6: FutureWarning: Indexing with multiple keys (implicitly converted to a tuple of keys) will be deprecated, use a list instead.\n",
      "  \n"
     ]
    }
   ],
   "source": [
    "df_studio = data[['production_companies', 'original_title']].copy()\n",
    "df_studio['companies'] = df_studio.production_companies.str.split('|')\n",
    "df_studio['count_studio'] = 1\n",
    "df_studio['len_title'] = df_studio['original_title'].apply(lambda x: len(x))\n",
    "df_studio_exp = df_studio[['companies', 'len_title', 'count_studio']].explode('companies')\n",
    "df_studio_group = df_studio_exp.groupby('companies', as_index=False)['len_title', 'count_studio'].sum()\n",
    "df_studio_group['mean_title'] = df_studio_group.apply(lambda row: row['len_title'] / row['count_studio'], axis = 1)\n",
    "studio = df_studio_group.sort_values(by = 'mean_title', ascending=False)\n",
    "answers['24'] = 'Какая студия дает самые длинные названия своим фильмам по количеству символов? \\\n",
    "Вариант 5: {}. Количество символов = {}'.format(studio.iloc[0][0], studio.iloc[0][1])"
   ]
  },
  {
   "cell_type": "markdown",
   "metadata": {
    "colab_type": "text",
    "id": "9G0hbvR7VqAK"
   },
   "source": [
    "# 25. Описание фильмов какой студии в среднем самые длинные по количеству слов?"
   ]
  },
  {
   "cell_type": "code",
   "execution_count": 357,
   "metadata": {
    "colab": {},
    "colab_type": "code",
    "id": "Ge2GsLNxVqAK"
   },
   "outputs": [],
   "source": [
    "films = pd.Series(data['production_companies'].str.cat(sep='|').split('|')\n",
    "                         ).value_counts(ascending=False)\n",
    "companies = films.copy()-films\n",
    "df_studio = data[['production_companies', 'original_title', 'overview']].copy()\n",
    "df_studio['overview_words_length'] = df_studio.overview.map(lambda x: len(x.split(' ')))\n",
    "for company in films.index:\n",
    "    films[company] = df_studio['overview_words_length'][df_studio['production_companies'].map(lambda x: True if company in x else False)].mean()\n",
    "films = pd.DataFrame(films).sort_values(0, ascending=False)\n",
    "answers['25'] = 'Описание фильмов какой студии в среднем самые длинные по количеству слов? \\\n",
    "Вариант 3: {}. Количество слов = {}'.format(films.index[0], films.iloc[0][0])"
   ]
  },
  {
   "cell_type": "markdown",
   "metadata": {
    "colab_type": "text",
    "id": "FJ1AFt90VqAP"
   },
   "source": [
    "# 26. Какие фильмы входят в 1 процент лучших по рейтингу? \n",
    "по vote_average"
   ]
  },
  {
   "cell_type": "code",
   "execution_count": 358,
   "metadata": {
    "colab": {},
    "colab_type": "code",
    "id": "8qmJVq4CVqAQ"
   },
   "outputs": [],
   "source": [
    "films = data[data['vote_average'] >data['vote_average'].quantile(.99)].sort_values(by = 'vote_average', ascending=False)\n",
    "answers['26'] = 'Какие фильмы входят в 1 процент лучших по рейтингу? \\\n",
    "Вариант 1: {}, {}, {}'.format(films.iloc[1][3], films.iloc[0][3], films.iloc[12][3])"
   ]
  },
  {
   "cell_type": "markdown",
   "metadata": {
    "colab_type": "text",
    "id": "MdXsUXbCVqAV"
   },
   "source": [
    "# 27. Какие актеры чаще всего снимаются в одном фильме вместе?\n"
   ]
  },
  {
   "cell_type": "code",
   "execution_count": 359,
   "metadata": {},
   "outputs": [],
   "source": [
    "new_list = []\n",
    "for i in data.cast:\n",
    "    new_list = new_list + list(its.combinations(i.split('|'), 2))\n",
    "list_2 = pd.Series(new_list)\n",
    "actors = list_2.value_counts()\n",
    "answers['27'] = 'Какие актеры чаще всего снимаются в одном фильме вместе? \\\n",
    "Вариант 5: {}, {}. Количество съемок = {}'.format(actors.index[0][0], actors.index[0][1], actors[0])\n"
   ]
  },
  {
   "cell_type": "markdown",
   "metadata": {
    "colab_type": "text",
    "id": "4ymnxEVoVqAW"
   },
   "source": [
    "ВАРИАНТ 2"
   ]
  },
  {
   "cell_type": "markdown",
   "metadata": {
    "colab_type": "text",
    "id": "U0nONFnGVqAX"
   },
   "source": [
    "# Submission"
   ]
  },
  {
   "cell_type": "code",
   "execution_count": 360,
   "metadata": {
    "colab": {},
    "colab_type": "code",
    "id": "IfcaRO9-VqAX",
    "outputId": "0f132912-32bb-4196-c98c-abfbc4ad5a5f"
   },
   "outputs": [
    {
     "data": {
      "text/plain": [
       "{'1': 'У какого фильма из списка самый большой бюджет? Вариант 5: 723. Pirates of the Caribbean: On Stranger Tides (tt1298650)',\n",
       " '2': 'Какой из фильмов самый длительный (в минутах)? Вариант 2: 1157. Gods and Generals (tt0279111)',\n",
       " '3': 'Какой из фильмов самый короткий (в минутах)? Вариант 3: 768. Winnie the Pooh (tt1449283)',\n",
       " '4': 'Какова средняя длительность фильмов? Вариант 2: 110 минут',\n",
       " '5': 'Каково медианное значение длительности фильмов? Вариант 1: 107 минут',\n",
       " '6': 'Какой самый прибыльный фильм? Вариант 5: 239. Avatar (tt0499549)',\n",
       " '7': 'Какой фильм самый убыточный? Вариант 5: 1245. The Lone Ranger (tt1449283)',\n",
       " '8': 'У скольких фильмов из датасета объем сборов оказался выше бюджета? Вариант 1: 1478',\n",
       " '9': 'Какой фильм оказался самым кассовым в 2008 году? Вариант 4: 599. The Dark Knight (tt0468569)',\n",
       " '10': 'Самый убыточный фильм за период с 2012 по 2014 г. (включительно)? Вариант 5: 1245. The Lone Ranger (tt1210819)',\n",
       " '11': 'Какого жанра фильмов больше всего? Вариант 3: Drama.',\n",
       " '12': 'Фильмы какого жанра чаще всего становятся прибыльными? Вариант 1: Drama.',\n",
       " '13': 'У какого режиссера самые большие суммарные кассовые сборы? Вариант 5: Peter Jackson(revenue = 6490593685)',\n",
       " '14': 'Какой режисер снял больше всего фильмов в стиле Action? Вариант 3: Robert Rodriguez (Фильмов в жанре = 9)',\n",
       " '15': 'Фильмы с каким актером принесли самые высокие кассовые сборы в 2012 году? Вариант 3: Chris Hemsworth(revenue = 2027450773)',\n",
       " '16': 'Какой актер снялся в большем количестве высокобюджетных фильмов? Вариант 3: Matt Damon (Количество фильмов = 18)',\n",
       " '17': 'В фильмах какого жанра больше всего снимался Nicolas Cage? Вариант 2: Action (Количество жанров = 17)',\n",
       " '18': 'Самый убыточный фильм от Paramount Pictures? Вариант 1: 925. K-19: The Widowmaker (tt0267626)',\n",
       " '19': 'Какой год стал самым успешным по суммарным кассовым сборам? Вариант 5: 2015(revenue = 25449202382)',\n",
       " '20': 'Какой самый прибыльный год для студии Warner Bros? Вариант 1: 2014(profit = 2295464519)',\n",
       " '21': 'В каком месяце за все годы суммарно вышло больше всего фильмов? Вариант 4: Сентябрь(Количество фильмов = 227)',\n",
       " '22': 'Сколько суммарно вышло фильмов летом? (за июнь, июль, август) Вариант 2: 450',\n",
       " '23': 'Для какого режиссера зима – самое продуктивное время года? Вариант 5: Peter Jackson. Количество фильмов = 7',\n",
       " '24': 'Какая студия дает самые длинные названия своим фильмам по количеству символов? Вариант 5: Four By Two Productions. Количество символов = 83',\n",
       " '25': 'Описание фильмов какой студии в среднем самые длинные по количеству слов? Вариант 3: Midnight Picture Show. Количество слов = 175',\n",
       " '26': 'Какие фильмы входят в 1 процент лучших по рейтингу? Вариант 1: Inside Out, The Dark Knight, 12 Years a Slave',\n",
       " '27': 'Какие актеры чаще всего снимаются в одном фильме вместе? Вариант 5: Daniel Radcliffe, Rupert Grint. Количество съемок = 8'}"
      ]
     },
     "execution_count": 360,
     "metadata": {},
     "output_type": "execute_result"
    }
   ],
   "source": [
    "# в конце можно посмотреть свои ответы к каждому вопросу\n",
    "answers"
   ]
  },
  {
   "cell_type": "code",
   "execution_count": 361,
   "metadata": {
    "colab": {},
    "colab_type": "code",
    "id": "SiRmHPl8VqAd"
   },
   "outputs": [
    {
     "data": {
      "text/plain": [
       "27"
      ]
     },
     "execution_count": 361,
     "metadata": {},
     "output_type": "execute_result"
    }
   ],
   "source": [
    "# и убедиться что ни чего не пропустил)\n",
    "len(answers)"
   ]
  },
  {
   "cell_type": "code",
   "execution_count": 0,
   "metadata": {
    "colab": {},
    "colab_type": "code",
    "id": "uCfuTkRbVqAg"
   },
   "outputs": [],
   "source": []
  },
  {
   "cell_type": "code",
   "execution_count": 0,
   "metadata": {
    "colab": {},
    "colab_type": "code",
    "id": "Vwx3NrkSVqAl"
   },
   "outputs": [],
   "source": []
  }
 ],
 "metadata": {
  "colab": {
   "name": "Copy of [SF-DST] Movies IMBD v4.1 TEMPLATE.ipynb",
   "provenance": []
  },
  "kernelspec": {
   "display_name": "Python 3",
   "language": "python",
   "name": "python3"
  },
  "language_info": {
   "codemirror_mode": {
    "name": "ipython",
    "version": 3
   },
   "file_extension": ".py",
   "mimetype": "text/x-python",
   "name": "python",
   "nbconvert_exporter": "python",
   "pygments_lexer": "ipython3",
   "version": "3.7.6"
  }
 },
 "nbformat": 4,
 "nbformat_minor": 1
}
